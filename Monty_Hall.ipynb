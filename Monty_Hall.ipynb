{
 "cells": [
  {
   "cell_type": "markdown",
   "metadata": {},
   "source": [
    "# Problème du Monty Hall\n",
    "### Votre parole contre celle de la machine\n",
    "<br/>\n",
    "Ce jeu imaginaire bien connu dans le monde de la statistique en laisse plus d'un perplexe. Et comme l'expliquer intuitivement n'est pas si simple, je vais laisser un algorithme parler pour moi. \n",
    "<br/><br/>\n",
    "<b>Le principe du jeu est le suivant :</b>\n",
    "<br/>\n",
    "Lors d'un jeu télévisé, le présentateur montre trois portes à un candidat. Derrière l'une de ces trois portes se trouve une récompense, derrière les deux autres rien. <br/>\n",
    "<ol> <li>Tout d'abord, le candidat choisit une porte (disons la <b>porte&nbsp;3</b>).</li>\n",
    "    <li>Puis, le présentateur (qui connaît l'emplacement de la récompense) ouvre l'une des portes, qui n'est ni celle choisie par le candidat, ni celle de la récompense (disons la <b>porte&nbsp;1</b>).</li>\n",
    "    <li>Enfin, le présentateur permet au candidat de changer sa sélection s'il le souhaite (ici, il peut décider d'abandonner la <b>porte&nbsp;1</b> pour choisir la <b>porte&nbsp;2</b>).</li>\n",
    "</ol>\n",
    "La question que pose alors le problème est : le candidat a-t-il intérêt à changer de porte ?\n",
    "<br/><br/>\n",
    "Intuitivement, il est tentant de se dire que comme la <b>porte&nbsp;1</b> est écartée par le présentateur, il ne reste que deux portes : la <b>porte&nbsp;2</b> et la <b>porte&nbsp;3</b>. Donc... il a 1 chance sur 2  de gagner ? À quoi bon changer de porte ?\n",
    "<br/><br/>\n",
    "<i>Créons un algorithme basique qui tranchera la question. Commençons par un objet qui matérialisera le jeu :</i>"
   ]
  },
  {
   "cell_type": "code",
   "execution_count": 145,
   "metadata": {},
   "outputs": [],
   "source": [
    "import numpy as np\n",
    "class MontyHallGame:\n",
    "    \n",
    "    def __init__(self, selection):\n",
    "        self.nb_portes = 3\n",
    "        \n",
    "        #on présuppose que la sélection n'entre pas en conflit avec le nombre de portes\n",
    "        self.selection = selection\n",
    "        \n",
    "        #l'algo choisit au hasard la porte gagnante\n",
    "        self.bonne_porte = np.random.randint(0, self.nb_portes)\n",
    "        self.porte_ouverte = -1\n",
    "        \n",
    "        #print(\"Nombre de portes : {}\".format(self.nb_portes))\n",
    "        #print(\"Porte choisie : {}/{}\".format(self.selection+1,self.nb_portes))\n",
    "        \n",
    "        #portes = [False for _ in np.arange(self.nb_portes)]\n",
    "        #portes[self.bonne_porte] = True\n",
    "        #print(\"Portes : {}\".format(portes))\n",
    "        \n",
    "        \n",
    "    #Ouverture d'une porte qui n'est ni gagnante, ni déjà sélectionnée    \n",
    "    def ouvrir_porte(self):\n",
    "        #On commence par 0 et croissant ou 3 et décroissant\n",
    "        #pour éviter de toujours ouvrir la porte 1 (si possible)\n",
    "        if np.random.randint(2):\n",
    "            tableau = np.arange(2,-1,-1)\n",
    "        else:\n",
    "            tableau = np.arange(3)\n",
    "        for i in tableau:\n",
    "            if i != self.selection and i != self.bonne_porte:\n",
    "                self.porte_ouverte = i\n",
    "                #print(\"Le présentateur ouvre la porte : {}\".format(self.porte_ouverte+1))\n",
    "                return i\n",
    "        \n",
    "    #Le candidat peut changer de porte    \n",
    "    def changer_porte(self):\n",
    "        for i in np.arange(self.nb_portes):\n",
    "            if (i == self.porte_ouverte) or (i == self.selection):\n",
    "                continue\n",
    "            self.selection = i\n",
    "            break\n",
    "        #print(\"Nouvelle porte choisie : {}/{}\".format(self.selection+1,self.nb_portes))\n",
    "    \n",
    "    #Le candidat a-t-il gagné ?\n",
    "    def resultat(self):\n",
    "        #print(\"La porte sélectionnée est correcte : {}\\n\".format(self.selection == self.bonne_porte))\n",
    "        return self.selection == self.bonne_porte      \n",
    "        "
   ]
  },
  {
   "cell_type": "markdown",
   "metadata": {},
   "source": [
    "<i>Procédons ensuite à un nombre d'essais suffisamment grand pour être significatif. Dans les 10 000 premiers essais, le candidat <b>ne change pas de porte</b>. Dans les 10 000 suivants, <b>il change systématiquement</b>.</i>"
   ]
  },
  {
   "cell_type": "code",
   "execution_count": 146,
   "metadata": {},
   "outputs": [
    {
     "name": "stdout",
     "output_type": "stream",
     "text": [
      "--- Jeu du Monty Hall ---\n",
      "--- En deux fois 10 000 essais ---\n",
      "\n",
      "\t--- Sans changer de porte :\n",
      "\t3417 réussites sur 10000, soit environ 34.17% de succès ---\n",
      "\n",
      "\t--- En changeant de porte :\n",
      "\t6697 réussites sur 10000, soit environ 66.97% de succès ---\n"
     ]
    }
   ],
   "source": [
    "print(\"--- Jeu du Monty Hall ---\")\n",
    "print(\"--- En deux fois 10 000 essais ---\\n\")\n",
    "print(\"\\t--- Sans changer de porte :\")\n",
    "nb_essais = 10000\n",
    "nb_reussites = 0\n",
    "for _ in np.arange(0, nb_essais):\n",
    "    porte = np.random.randint(0, 3)        \n",
    "    a = MontyHallGame(porte)\n",
    "    a.ouvrir_porte()       \n",
    "    if a.resultat():\n",
    "        nb_reussites += 1\n",
    "        \n",
    "print(\"\\t{} réussites sur {}, soit environ {}% de succès ---\\n\"\n",
    "      .format(nb_reussites, nb_essais, 100*nb_reussites/nb_essais )) \n",
    "\n",
    "#réinitialisation du nombre de réussites\n",
    "nb_reussites = 0\n",
    "print(\"\\t--- En changeant de porte :\")\n",
    "for _ in np.arange(0, nb_essais):\n",
    "    porte = np.random.randint(0, 3)        \n",
    "    a = MontyHallGame(porte)\n",
    "    a.ouvrir_porte() \n",
    "    a.changer_porte()\n",
    "    if a.resultat():\n",
    "        nb_reussites += 1\n",
    "        \n",
    "print(\"\\t{} réussites sur {}, soit environ {}% de succès ---\"\n",
    "      .format(nb_reussites, nb_essais, nb_reussites/nb_essais*100 )) \n"
   ]
  },
  {
   "cell_type": "markdown",
   "metadata": {},
   "source": [
    "Pour ceux qui connaissent le problème, le résultat n'est pas étonnant : le candidat a tout intérêt à changer de porte, car il a alors <b>deux chances sur trois</b> de gagner la récompense. Comment l'expliquer ? Tout vient du fait que le présentateur connaît le bon emplacement et n'a pas dévoilé sa porte <i>par hasard</i>.\n",
    "<br/><br/>\n",
    "Il est plus intuitif de commencer par se dire qu'au départ, le candidat a 1 chance sur 3 de gagner : il fait <b>un</b> choix, il y a <b>trois</b> portes. S'il ne change pas de porte, cette probabilité n'a pas de raison de changer non plus.\n",
    "<br/>\n",
    "À partir de là, si le candidat pouvait décider de choisir <i><b>tout ce qui n'est pas son premier choix</b></i>, il aurait 1 - 1/3 = 2/3 chances de gagner.\n",
    "<br/>\n",
    "Et effectivement, comme le présentateur a éliminé une porte, <i><b>l'ensemble des choix possibles qui ne sont pas le premier choix</b></i> du candidat... c'est la porte non dévoilée.\n",
    "<br/><br/>Si vous avez vent d'une méthode encore plus convaincante pour faire briller cette lueur de lucidité chez l'auditeur, elle est la bienvenue.<br/><br/>\n",
    "<center>À bientôt pour un nouvel épisode de <b>Fun with Stats</b> !</center>"
   ]
  },
  {
   "cell_type": "code",
   "execution_count": null,
   "metadata": {},
   "outputs": [],
   "source": []
  }
 ],
 "metadata": {
  "kernelspec": {
   "display_name": "Python 3",
   "language": "python",
   "name": "python3"
  },
  "language_info": {
   "codemirror_mode": {
    "name": "ipython",
    "version": 3
   },
   "file_extension": ".py",
   "mimetype": "text/x-python",
   "name": "python",
   "nbconvert_exporter": "python",
   "pygments_lexer": "ipython3",
   "version": "3.7.4"
  }
 },
 "nbformat": 4,
 "nbformat_minor": 2
}
